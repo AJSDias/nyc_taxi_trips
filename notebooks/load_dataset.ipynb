{
 "cells": [
  {
   "cell_type": "code",
   "execution_count": null,
   "id": "fbe44c11",
   "metadata": {},
   "outputs": [],
   "source": [
    "from pyspark.sql import SparkSession"
   ]
  },
  {
   "cell_type": "code",
   "execution_count": null,
   "id": "eb3ca1eb",
   "metadata": {},
   "outputs": [
    {
     "name": "stdout",
     "output_type": "stream",
     "text": [
      "✅ Spark session created: 3.4.1\n"
     ]
    }
   ],
   "source": [
    "spark = SparkSession.builder.appName('nyc_taxi_trips').getOrCreate()\n",
    "print(f\"✅ Spark session created: {spark.version}\")"
   ]
  },
  {
   "cell_type": "code",
   "execution_count": null,
   "id": "81851a2d",
   "metadata": {},
   "outputs": [
    {
     "name": "stdout",
     "output_type": "stream",
     "text": [
      "✅ DataFrame loaded with 4322960 rows and 20 columns\n"
     ]
    }
   ],
   "source": [
    "df = spark.read.parquet('../data/nyc_taxi_trip_june2025.parquet')\n",
    "print(f\"✅ DataFrame loaded with {df.count()} rows and {len(df.columns)} columns\")"
   ]
  },
  {
   "cell_type": "code",
   "execution_count": null,
   "id": "af561439",
   "metadata": {},
   "outputs": [
    {
     "name": "stdout",
     "output_type": "stream",
     "text": [
      "+--------+--------------------+---------------------+---------------+-------------+----------+------------------+------------+------------+------------+-----------+-----+-------+----------+------------+---------------------+------------+--------------------+-----------+------------------+\n",
      "|VendorID|tpep_pickup_datetime|tpep_dropoff_datetime|passenger_count|trip_distance|RatecodeID|store_and_fwd_flag|PULocationID|DOLocationID|payment_type|fare_amount|extra|mta_tax|tip_amount|tolls_amount|improvement_surcharge|total_amount|congestion_surcharge|Airport_fee|cbd_congestion_fee|\n",
      "+--------+--------------------+---------------------+---------------+-------------+----------+------------------+------------+------------+------------+-----------+-----+-------+----------+------------+---------------------+------------+--------------------+-----------+------------------+\n",
      "|       1| 2025-06-01 00:02:50|  2025-06-01 00:39:51|              1|         10.0|         1|                 N|         138|          50|           1|       47.8| 11.0|    0.5|     20.15|        6.94|                  1.0|       87.39|                 2.5|       1.75|              0.75|\n",
      "|       2| 2025-06-01 00:11:27|  2025-06-01 00:35:35|              1|         3.93|         1|                 N|         158|         237|           1|       24.7|  1.0|    0.5|      6.09|         0.0|                  1.0|       36.54|                 2.5|        0.0|              0.75|\n",
      "|       1| 2025-06-01 00:43:47|  2025-06-01 00:49:16|              0|          0.7|         1|                 N|         230|         163|           1|        7.2| 4.25|    0.5|      2.59|         0.0|                  1.0|       15.54|                 2.5|        0.0|              0.75|\n",
      "|       1| 2025-06-01 00:01:15|  2025-06-01 00:42:16|              1|         17.0|         2|                 N|         132|         232|           1|       70.0| 3.25|    0.5|       5.0|         0.0|                  1.0|       79.75|                 2.5|        0.0|              0.75|\n",
      "|       7| 2025-06-01 00:16:32|  2025-06-01 00:16:32|              1|         2.22|         1|                 N|          48|         234|           1|       20.5|  0.0|    0.5|      5.25|         0.0|                  1.0|        31.5|                 2.5|        0.0|              0.75|\n",
      "+--------+--------------------+---------------------+---------------+-------------+----------+------------------+------------+------------+------------+-----------+-----+-------+----------+------------+---------------------+------------+--------------------+-----------+------------------+\n",
      "only showing top 5 rows\n",
      "\n"
     ]
    }
   ],
   "source": [
    "df.show(5)"
   ]
  }
 ],
 "metadata": {
  "kernelspec": {
   "display_name": "pyspark",
   "language": "python",
   "name": "python3"
  },
  "language_info": {
   "codemirror_mode": {
    "name": "ipython",
    "version": 3
   },
   "file_extension": ".py",
   "mimetype": "text/x-python",
   "name": "python",
   "nbconvert_exporter": "python",
   "pygments_lexer": "ipython3",
   "version": "3.12.4"
  }
 },
 "nbformat": 4,
 "nbformat_minor": 5
}
